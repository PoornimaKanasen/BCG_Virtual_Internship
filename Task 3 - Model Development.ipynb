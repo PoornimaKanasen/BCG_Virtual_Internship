{
 "cells": [
  {
   "cell_type": "markdown",
   "id": "4c01963b",
   "metadata": {},
   "source": [
    "### Sub-Task 2\n",
    "\n",
    "- Is this problem best represented as classification or regression? \n",
    "- What kind of model performance do you think is appropriate? \n",
    "- Most importantly how would you measure such a performance? \n",
    "- How would you tie business metrics such as profits or savings to the model performance?\n",
    "\n",
    "#### Points to consider: \n",
    "\n",
    "- Ensure you’re able to explain the performance of your model, where did the model underperform?\n",
    "- Why did you choose the evaluation metrics that you used? Please elaborate on your choices.\n",
    "- Document the advantages and disadvantages of using the Random Forest for this use case.\n",
    "- Do you think that the model performance is satisfactory? \n",
    "     * Give justification for your answer.(Bonus) \n",
    "     * Relate the model performance to the client's financial performance with the introduction of the discount proposition. \n",
    "     * How much money could a client save with the use of the model? What assumptions did you make to come to this conclusion?\n"
   ]
  },
  {
   "cell_type": "markdown",
   "id": "6fc63fd5",
   "metadata": {},
   "source": [
    "### Is this problem best represented as classification or regression?\n",
    "\n",
    "*This is a classification problem where 1 indicates churn and 0, no-churn. We will use appropriate classification algorithm(s). We will use Random Forest Classifier as one of the algorithms and utilise T-Pot to further enhance the pipeline and test other relevant algorithms.*"
   ]
  },
  {
   "cell_type": "code",
   "execution_count": 1,
   "id": "33ca4261",
   "metadata": {},
   "outputs": [],
   "source": [
    "# Import the basic libraries\n",
    "\n",
    "import numpy as np\n",
    "import pandas as pd\n",
    "import seaborn as sns\n",
    "import matplotlib.pyplot as plt\n",
    "%matplotlib inline\n",
    "\n",
    "from IPython.core.interactiveshell import InteractiveShell\n",
    "InteractiveShell.ast_node_interactivity = 'all'"
   ]
  },
  {
   "cell_type": "code",
   "execution_count": 2,
   "id": "486c5031",
   "metadata": {},
   "outputs": [
    {
     "data": {
      "text/html": [
       "<div><div id=a5121b1f-04f4-4317-a142-378833f21f2a style=\"display:none; background-color:#9D6CFF; color:white; width:200px; height:30px; padding-left:5px; border-radius:4px; flex-direction:row; justify-content:space-around; align-items:center;\" onmouseover=\"this.style.backgroundColor='#BA9BF8'\" onmouseout=\"this.style.backgroundColor='#9D6CFF'\" onclick=\"window.commands?.execute('create-mitosheet-from-dataframe-output');\">See Full Dataframe in Mito</div> <script> if (window.commands?.hasCommand('create-mitosheet-from-dataframe-output')) document.getElementById('a5121b1f-04f4-4317-a142-378833f21f2a').style.display = 'flex' </script> <table border=\"1\" class=\"dataframe\">\n",
       "  <thead>\n",
       "    <tr style=\"text-align: right;\">\n",
       "      <th></th>\n",
       "      <th>margin_net_pow_ele</th>\n",
       "      <th>offpeak_diff_dec_january_energy</th>\n",
       "      <th>end_Month</th>\n",
       "      <th>modif_prod_Month</th>\n",
       "      <th>forecast_cons_12m</th>\n",
       "      <th>pow_max</th>\n",
       "      <th>active_Month</th>\n",
       "      <th>net_margin</th>\n",
       "      <th>cons_12m</th>\n",
       "      <th>forecast_meter_rent_12m</th>\n",
       "      <th>churn</th>\n",
       "    </tr>\n",
       "  </thead>\n",
       "  <tbody>\n",
       "    <tr>\n",
       "      <th>0</th>\n",
       "      <td>0.262569</td>\n",
       "      <td>2.032458</td>\n",
       "      <td>0.400844</td>\n",
       "      <td>-1.417305</td>\n",
       "      <td>-2.740011</td>\n",
       "      <td>1.918619</td>\n",
       "      <td>-2.077504</td>\n",
       "      <td>1.824162</td>\n",
       "      <td>-4.437665</td>\n",
       "      <td>-1.510629</td>\n",
       "      <td>3.049765</td>\n",
       "    </tr>\n",
       "    <tr>\n",
       "      <th>1</th>\n",
       "      <td>0.262569</td>\n",
       "      <td>2.032458</td>\n",
       "      <td>0.400844</td>\n",
       "      <td>-1.417305</td>\n",
       "      <td>-2.740011</td>\n",
       "      <td>1.918619</td>\n",
       "      <td>-2.077504</td>\n",
       "      <td>1.824162</td>\n",
       "      <td>-4.437665</td>\n",
       "      <td>-1.510629</td>\n",
       "      <td>3.049765</td>\n",
       "    </tr>\n",
       "    <tr>\n",
       "      <th>2</th>\n",
       "      <td>0.262569</td>\n",
       "      <td>2.032458</td>\n",
       "      <td>0.400844</td>\n",
       "      <td>-1.417305</td>\n",
       "      <td>-2.740011</td>\n",
       "      <td>1.918619</td>\n",
       "      <td>-2.077504</td>\n",
       "      <td>1.824162</td>\n",
       "      <td>-4.437665</td>\n",
       "      <td>-1.510629</td>\n",
       "      <td>3.049765</td>\n",
       "    </tr>\n",
       "    <tr>\n",
       "      <th>3</th>\n",
       "      <td>0.262569</td>\n",
       "      <td>2.032458</td>\n",
       "      <td>0.400844</td>\n",
       "      <td>-1.417305</td>\n",
       "      <td>-2.740011</td>\n",
       "      <td>1.918619</td>\n",
       "      <td>-2.077504</td>\n",
       "      <td>1.824162</td>\n",
       "      <td>-4.437665</td>\n",
       "      <td>-1.510629</td>\n",
       "      <td>3.049765</td>\n",
       "    </tr>\n",
       "    <tr>\n",
       "      <th>4</th>\n",
       "      <td>0.262569</td>\n",
       "      <td>2.032458</td>\n",
       "      <td>0.400844</td>\n",
       "      <td>-1.417305</td>\n",
       "      <td>-2.740011</td>\n",
       "      <td>1.918619</td>\n",
       "      <td>-2.077504</td>\n",
       "      <td>1.824162</td>\n",
       "      <td>-4.437665</td>\n",
       "      <td>-1.510629</td>\n",
       "      <td>3.049765</td>\n",
       "    </tr>\n",
       "  </tbody>\n",
       "</table></div>"
      ],
      "text/plain": [
       "   margin_net_pow_ele  offpeak_diff_dec_january_energy  end_Month  \\\n",
       "0            0.262569                         2.032458   0.400844   \n",
       "1            0.262569                         2.032458   0.400844   \n",
       "2            0.262569                         2.032458   0.400844   \n",
       "3            0.262569                         2.032458   0.400844   \n",
       "4            0.262569                         2.032458   0.400844   \n",
       "\n",
       "   modif_prod_Month  forecast_cons_12m   pow_max  active_Month  net_margin  \\\n",
       "0         -1.417305          -2.740011  1.918619     -2.077504    1.824162   \n",
       "1         -1.417305          -2.740011  1.918619     -2.077504    1.824162   \n",
       "2         -1.417305          -2.740011  1.918619     -2.077504    1.824162   \n",
       "3         -1.417305          -2.740011  1.918619     -2.077504    1.824162   \n",
       "4         -1.417305          -2.740011  1.918619     -2.077504    1.824162   \n",
       "\n",
       "   cons_12m  forecast_meter_rent_12m     churn  \n",
       "0 -4.437665                -1.510629  3.049765  \n",
       "1 -4.437665                -1.510629  3.049765  \n",
       "2 -4.437665                -1.510629  3.049765  \n",
       "3 -4.437665                -1.510629  3.049765  \n",
       "4 -4.437665                -1.510629  3.049765  "
      ]
     },
     "execution_count": 2,
     "metadata": {},
     "output_type": "execute_result"
    },
    {
     "data": {
      "text/html": [
       "<div><div id=8f39e8a4-f1f7-4093-a59c-0f7eaa24bf80 style=\"display:none; background-color:#9D6CFF; color:white; width:200px; height:30px; padding-left:5px; border-radius:4px; flex-direction:row; justify-content:space-around; align-items:center;\" onmouseover=\"this.style.backgroundColor='#BA9BF8'\" onmouseout=\"this.style.backgroundColor='#9D6CFF'\" onclick=\"window.commands?.execute('create-mitosheet-from-dataframe-output');\">See Full Dataframe in Mito</div> <script> if (window.commands?.hasCommand('create-mitosheet-from-dataframe-output')) document.getElementById('8f39e8a4-f1f7-4093-a59c-0f7eaa24bf80').style.display = 'flex' </script> <table border=\"1\" class=\"dataframe\">\n",
       "  <thead>\n",
       "    <tr style=\"text-align: right;\">\n",
       "      <th></th>\n",
       "      <th>churn</th>\n",
       "    </tr>\n",
       "  </thead>\n",
       "  <tbody>\n",
       "    <tr>\n",
       "      <th>0</th>\n",
       "      <td>1</td>\n",
       "    </tr>\n",
       "    <tr>\n",
       "      <th>1</th>\n",
       "      <td>1</td>\n",
       "    </tr>\n",
       "    <tr>\n",
       "      <th>2</th>\n",
       "      <td>1</td>\n",
       "    </tr>\n",
       "    <tr>\n",
       "      <th>3</th>\n",
       "      <td>1</td>\n",
       "    </tr>\n",
       "    <tr>\n",
       "      <th>4</th>\n",
       "      <td>1</td>\n",
       "    </tr>\n",
       "  </tbody>\n",
       "</table></div>"
      ],
      "text/plain": [
       "   churn\n",
       "0      1\n",
       "1      1\n",
       "2      1\n",
       "3      1\n",
       "4      1"
      ]
     },
     "execution_count": 2,
     "metadata": {},
     "output_type": "execute_result"
    }
   ],
   "source": [
    "# Load the data\n",
    "\n",
    "df = pd.read_csv('df')\n",
    "df = df.drop('Unnamed: 0', axis=1)\n",
    "df.head()\n",
    "target_df = pd.read_csv('target_df')\n",
    "target_df  = target_df .drop('Unnamed: 0', axis=1)\n",
    "target_df.head()"
   ]
  },
  {
   "cell_type": "markdown",
   "id": "42c26e2a",
   "metadata": {},
   "source": [
    "### Train, test and split"
   ]
  },
  {
   "cell_type": "code",
   "execution_count": 3,
   "id": "6a2b3b56",
   "metadata": {},
   "outputs": [],
   "source": [
    "X = df.drop('churn', axis=1)\n",
    "\n",
    "y = target_df['churn']"
   ]
  },
  {
   "cell_type": "code",
   "execution_count": 4,
   "id": "d6c997c1",
   "metadata": {},
   "outputs": [
    {
     "name": "stdout",
     "output_type": "stream",
     "text": [
      "Shape of X_train:(122604, 10)\n",
      "Shape of X_test:(52545, 10)\n",
      "Shape of y_train:(122604,)\n",
      "Shape of y_test:(52545,)\n"
     ]
    }
   ],
   "source": [
    "from sklearn.model_selection import KFold, StratifiedKFold, train_test_split, cross_val_score\n",
    "\n",
    "X_train, X_test, y_train, y_test = train_test_split(X, y, test_size = 0.3)\n",
    "\n",
    "print('Shape of X_train:{}'.format(X_train.shape))\n",
    "print('Shape of X_test:{}'.format(X_test.shape))\n",
    "print('Shape of y_train:{}'.format(y_train.shape))\n",
    "print('Shape of y_test:{}'.format(y_test.shape))"
   ]
  },
  {
   "cell_type": "code",
   "execution_count": 33,
   "id": "2ca9e2a0",
   "metadata": {},
   "outputs": [],
   "source": [
    "# Saving test datasets\n",
    "X_test.to_csv('X_test')\n",
    "y_test.to_csv('y_test')"
   ]
  },
  {
   "cell_type": "markdown",
   "id": "e9908051",
   "metadata": {},
   "source": [
    "### TPOT Classifier"
   ]
  },
  {
   "cell_type": "code",
   "execution_count": 5,
   "id": "e77787a9",
   "metadata": {},
   "outputs": [
    {
     "data": {
      "application/vnd.jupyter.widget-view+json": {
       "model_id": "",
       "version_major": 2,
       "version_minor": 0
      },
      "text/plain": [
       "Optimization Progress:   0%|          | 0/300 [00:00<?, ?pipeline/s]"
      ]
     },
     "metadata": {},
     "output_type": "display_data"
    },
    {
     "name": "stdout",
     "output_type": "stream",
     "text": [
      "\n",
      "Generation 1 - Current best internal CV score: 0.9999836874515722\n",
      "\n",
      "Generation 2 - Current best internal CV score: 0.9999836874515722\n",
      "\n",
      "Generation 3 - Current best internal CV score: 0.9999836874515722\n",
      "\n",
      "Generation 4 - Current best internal CV score: 0.9999836874515722\n",
      "\n",
      "Generation 5 - Current best internal CV score: 0.9999836874515722\n",
      "\n",
      "Best pipeline: RandomForestClassifier(input_matrix, bootstrap=False, criterion=entropy, max_features=0.5, min_samples_leaf=1, min_samples_split=7, n_estimators=100)\n"
     ]
    },
    {
     "data": {
      "text/html": [
       "<style>#sk-container-id-1 {color: black;background-color: white;}#sk-container-id-1 pre{padding: 0;}#sk-container-id-1 div.sk-toggleable {background-color: white;}#sk-container-id-1 label.sk-toggleable__label {cursor: pointer;display: block;width: 100%;margin-bottom: 0;padding: 0.3em;box-sizing: border-box;text-align: center;}#sk-container-id-1 label.sk-toggleable__label-arrow:before {content: \"▸\";float: left;margin-right: 0.25em;color: #696969;}#sk-container-id-1 label.sk-toggleable__label-arrow:hover:before {color: black;}#sk-container-id-1 div.sk-estimator:hover label.sk-toggleable__label-arrow:before {color: black;}#sk-container-id-1 div.sk-toggleable__content {max-height: 0;max-width: 0;overflow: hidden;text-align: left;background-color: #f0f8ff;}#sk-container-id-1 div.sk-toggleable__content pre {margin: 0.2em;color: black;border-radius: 0.25em;background-color: #f0f8ff;}#sk-container-id-1 input.sk-toggleable__control:checked~div.sk-toggleable__content {max-height: 200px;max-width: 100%;overflow: auto;}#sk-container-id-1 input.sk-toggleable__control:checked~label.sk-toggleable__label-arrow:before {content: \"▾\";}#sk-container-id-1 div.sk-estimator input.sk-toggleable__control:checked~label.sk-toggleable__label {background-color: #d4ebff;}#sk-container-id-1 div.sk-label input.sk-toggleable__control:checked~label.sk-toggleable__label {background-color: #d4ebff;}#sk-container-id-1 input.sk-hidden--visually {border: 0;clip: rect(1px 1px 1px 1px);clip: rect(1px, 1px, 1px, 1px);height: 1px;margin: -1px;overflow: hidden;padding: 0;position: absolute;width: 1px;}#sk-container-id-1 div.sk-estimator {font-family: monospace;background-color: #f0f8ff;border: 1px dotted black;border-radius: 0.25em;box-sizing: border-box;margin-bottom: 0.5em;}#sk-container-id-1 div.sk-estimator:hover {background-color: #d4ebff;}#sk-container-id-1 div.sk-parallel-item::after {content: \"\";width: 100%;border-bottom: 1px solid gray;flex-grow: 1;}#sk-container-id-1 div.sk-label:hover label.sk-toggleable__label {background-color: #d4ebff;}#sk-container-id-1 div.sk-serial::before {content: \"\";position: absolute;border-left: 1px solid gray;box-sizing: border-box;top: 0;bottom: 0;left: 50%;z-index: 0;}#sk-container-id-1 div.sk-serial {display: flex;flex-direction: column;align-items: center;background-color: white;padding-right: 0.2em;padding-left: 0.2em;position: relative;}#sk-container-id-1 div.sk-item {position: relative;z-index: 1;}#sk-container-id-1 div.sk-parallel {display: flex;align-items: stretch;justify-content: center;background-color: white;position: relative;}#sk-container-id-1 div.sk-item::before, #sk-container-id-1 div.sk-parallel-item::before {content: \"\";position: absolute;border-left: 1px solid gray;box-sizing: border-box;top: 0;bottom: 0;left: 50%;z-index: -1;}#sk-container-id-1 div.sk-parallel-item {display: flex;flex-direction: column;z-index: 1;position: relative;background-color: white;}#sk-container-id-1 div.sk-parallel-item:first-child::after {align-self: flex-end;width: 50%;}#sk-container-id-1 div.sk-parallel-item:last-child::after {align-self: flex-start;width: 50%;}#sk-container-id-1 div.sk-parallel-item:only-child::after {width: 0;}#sk-container-id-1 div.sk-dashed-wrapped {border: 1px dashed gray;margin: 0 0.4em 0.5em 0.4em;box-sizing: border-box;padding-bottom: 0.4em;background-color: white;}#sk-container-id-1 div.sk-label label {font-family: monospace;font-weight: bold;display: inline-block;line-height: 1.2em;}#sk-container-id-1 div.sk-label-container {text-align: center;}#sk-container-id-1 div.sk-container {/* jupyter's `normalize.less` sets `[hidden] { display: none; }` but bootstrap.min.css set `[hidden] { display: none !important; }` so we also need the `!important` here to be able to override the default hidden behavior on the sphinx rendered scikit-learn.org. See: https://github.com/scikit-learn/scikit-learn/issues/21755 */display: inline-block !important;position: relative;}#sk-container-id-1 div.sk-text-repr-fallback {display: none;}</style><div id=\"sk-container-id-1\" class=\"sk-top-container\"><div class=\"sk-text-repr-fallback\"><pre>TPOTClassifier(cv=StratifiedKFold(n_splits=5, random_state=None, shuffle=False),\n",
       "               generations=5, n_jobs=-1, population_size=50, random_state=1,\n",
       "               scoring=&#x27;accuracy&#x27;, verbosity=2)</pre><b>In a Jupyter environment, please rerun this cell to show the HTML representation or trust the notebook. <br />On GitHub, the HTML representation is unable to render, please try loading this page with nbviewer.org.</b></div><div class=\"sk-container\" hidden><div class=\"sk-item\"><div class=\"sk-estimator sk-toggleable\"><input class=\"sk-toggleable__control sk-hidden--visually\" id=\"sk-estimator-id-1\" type=\"checkbox\" checked><label for=\"sk-estimator-id-1\" class=\"sk-toggleable__label sk-toggleable__label-arrow\">TPOTClassifier</label><div class=\"sk-toggleable__content\"><pre>TPOTClassifier(cv=StratifiedKFold(n_splits=5, random_state=None, shuffle=False),\n",
       "               generations=5, n_jobs=-1, population_size=50, random_state=1,\n",
       "               scoring=&#x27;accuracy&#x27;, verbosity=2)</pre></div></div></div></div></div>"
      ],
      "text/plain": [
       "TPOTClassifier(cv=StratifiedKFold(n_splits=5, random_state=None, shuffle=False),\n",
       "               generations=5, n_jobs=-1, population_size=50, random_state=1,\n",
       "               scoring='accuracy', verbosity=2)"
      ]
     },
     "execution_count": 5,
     "metadata": {},
     "output_type": "execute_result"
    }
   ],
   "source": [
    "import tpot\n",
    "from tpot import TPOTClassifier\n",
    "\n",
    "# model evaluation definition, 10 fold StratifiedKFold used here\n",
    "cv = StratifiedKFold(n_splits=5)\n",
    "# define TPOTClassifier\n",
    "model = TPOTClassifier(generations=5, population_size=50, cv=cv, scoring='accuracy', verbosity=2, random_state=1, n_jobs=-1)\n",
    "# performing the search for best fit\n",
    "model.fit(X_train.values, y_train.values)\n",
    "# exporting best model\n",
    "model.export('tpot_data.py')"
   ]
  },
  {
   "cell_type": "code",
   "execution_count": 6,
   "id": "14884407",
   "metadata": {},
   "outputs": [],
   "source": [
    "#Lets save the model\n",
    "\n",
    "import pickle\n",
    "\n",
    "pickle.dump('model', open('model_tpot', 'wb'))"
   ]
  },
  {
   "cell_type": "code",
   "execution_count": 8,
   "id": "57edcd24",
   "metadata": {},
   "outputs": [],
   "source": [
    "y_pred = model.predict(X_test.values)"
   ]
  },
  {
   "cell_type": "code",
   "execution_count": 28,
   "id": "ccec9afa",
   "metadata": {},
   "outputs": [
    {
     "data": {
      "text/plain": [
       "<AxesSubplot:>"
      ]
     },
     "execution_count": 28,
     "metadata": {},
     "output_type": "execute_result"
    },
    {
     "data": {
      "text/plain": [
       "Text(0.5, 1.1, 'Confusion matrix')"
      ]
     },
     "execution_count": 28,
     "metadata": {},
     "output_type": "execute_result"
    },
    {
     "data": {
      "text/plain": [
       "Text(33.22222222222222, 0.5, 'Actual label')"
      ]
     },
     "execution_count": 28,
     "metadata": {},
     "output_type": "execute_result"
    },
    {
     "data": {
      "text/plain": [
       "Text(0.5, 14.722222222222216, 'Predicted label')"
      ]
     },
     "execution_count": 28,
     "metadata": {},
     "output_type": "execute_result"
    },
    {
     "name": "stdout",
     "output_type": "stream",
     "text": [
      "              precision    recall  f1-score   support\n",
      "\n",
      "           0       1.00      1.00      1.00     47453\n",
      "           1       1.00      1.00      1.00      5092\n",
      "\n",
      "    accuracy                           1.00     52545\n",
      "   macro avg       1.00      1.00      1.00     52545\n",
      "weighted avg       1.00      1.00      1.00     52545\n",
      "\n"
     ]
    },
    {
     "data": {
      "text/plain": [
       "[<matplotlib.lines.Line2D at 0x2180a1c7370>]"
      ]
     },
     "execution_count": 28,
     "metadata": {},
     "output_type": "execute_result"
    },
    {
     "data": {
      "text/plain": [
       "[<matplotlib.lines.Line2D at 0x2180a1c7760>]"
      ]
     },
     "execution_count": 28,
     "metadata": {},
     "output_type": "execute_result"
    },
    {
     "data": {
      "text/plain": [
       "[<matplotlib.lines.Line2D at 0x2180a1c7a00>]"
      ]
     },
     "execution_count": 28,
     "metadata": {},
     "output_type": "execute_result"
    },
    {
     "data": {
      "text/plain": [
       "<matplotlib.legend.Legend at 0x2180a1c7280>"
      ]
     },
     "execution_count": 28,
     "metadata": {},
     "output_type": "execute_result"
    },
    {
     "data": {
      "text/plain": [
       "Text(0.5, 0, 'False Positive Rate')"
      ]
     },
     "execution_count": 28,
     "metadata": {},
     "output_type": "execute_result"
    },
    {
     "data": {
      "text/plain": [
       "Text(0, 0.5, 'True Positive Rate')"
      ]
     },
     "execution_count": 28,
     "metadata": {},
     "output_type": "execute_result"
    },
    {
     "data": {
      "text/plain": [
       "Text(0.5, 1.0, 'AUC(ROC curve)')"
      ]
     },
     "execution_count": 28,
     "metadata": {},
     "output_type": "execute_result"
    },
    {
     "data": {
      "image/png": "[encoded data removed]",
      "text/plain": [
       "<Figure size 500x400 with 2 Axes>"
      ]
     },
     "metadata": {},
     "output_type": "display_data"
    },
    {
     "data": {
      "image/png": "[encoded data removed]",
      "text/plain": [
       "<Figure size 500x400 with 1 Axes>"
      ]
     },
     "metadata": {},
     "output_type": "display_data"
    }
   ],
   "source": [
    "from sklearn import metrics\n",
    "from sklearn.metrics import classification_report\n",
    "from sklearn.metrics import f1_score,recall_score\n",
    "\n",
    "cf_matrix = metrics.confusion_matrix(y_test, y_pred)\n",
    "fig = plt.figure(figsize=(5,4))\n",
    "sns.heatmap(pd.DataFrame(cf_matrix), annot=True, cmap='Blues' ,fmt='g')\n",
    "plt.title('Confusion matrix', y=1.1)\n",
    "plt.ylabel('Actual label')\n",
    "plt.xlabel('Predicted label')\n",
    "\n",
    "\n",
    "# Classification report\n",
    "print(classification_report(y_test, y_pred))\n",
    "\n",
    "\n",
    "# ROC curve\n",
    "from sklearn.metrics import roc_curve, auc\n",
    "\n",
    "y_train_pred = model.predict(X_train.values)    \n",
    "y_test_pred = model.predict(X_test.values) \n",
    "\n",
    "train_fpr, train_tpr, tr_thresholds = roc_curve(y_train, y_train_pred)\n",
    "test_fpr, test_tpr, te_thresholds = roc_curve(y_test, y_test_pred)\n",
    "\n",
    "# plot ROC curve\n",
    "fig = plt.figure(figsize=(5,4))\n",
    "\n",
    "plt.grid()\n",
    "\n",
    "plt.plot(train_fpr, train_tpr, label=\" AUC TRAIN =\"+str(auc(train_fpr, train_tpr)))\n",
    "plt.plot(test_fpr, test_tpr, label=\" AUC TEST =\"+str(auc(test_fpr, test_tpr)))\n",
    "plt.plot([0,1],[0,1],'g--')\n",
    "plt.legend()\n",
    "plt.xlabel(\"False Positive Rate\")\n",
    "plt.ylabel(\"True Positive Rate\")\n",
    "plt.title(\"AUC(ROC curve)\")\n",
    "plt.grid( linestyle='-', linewidth=0.5)\n",
    "plt.show()"
   ]
  },
  {
   "cell_type": "markdown",
   "id": "99d72b9e",
   "metadata": {},
   "source": [
    "**Observations**\n",
    "\n",
    "Based on the classification report above, the model has an accuracy score of 1 which means there were no wrong predictions (it would be great but not quite ideal in real case scenarios). This indicates an overfitting issue. Since it does well on both the training and testing data, maybe there is data leakage before the data was split into training and testing datasets (during standard scalling or so). By using different test data sets, maybe the accuracy of our model can be cross checked. Data scarcity in the case of the positive samples aren't large enough, the model can easily memorize these samples and this leads to overfitting.\n",
    "\n",
    "As there was an imbalance in the target column () accuracy wouldnt be the most. Choosing the wrong metric (instead of Accuracy metric, we can opt for precision @ fixed recall, recall @ fixed precision or F1-Score which will take into account FNs. Our recall, precision and F1 score show 1.0 which would indicate a perfect model but isnt ideal but probable factors as mentioned above (data leakage, data scarcity) could be contribute to this scenario.\n",
    "\n",
    "I suggest to rework on splitting the dataset into train and test even before the preprocessing steps to maintain the integrity of the dataset.\n",
    "\n",
    "***How do you prevent overfitting in random forest models?***\n",
    "\n",
    "   - Reduce tree depth.\n",
    "       - reducing model complexity reduces overfitting problems \n",
    "       - reducing tree depth is the easiest way to reduce complexity in random forests. \n",
    "   - Reduce the number of variables sampled at each split. \n",
    "   - Use more data. \n",
    "        - Overfitting is more likely to happen when complex models are trained on small datasets \n",
    "        - so, increasing the size of your dataset may help.\n",
    "\n",
    "***Advantages and disadvantages of Random forest algo.***\n",
    "\n",
    "The advantages are:\n",
    "\n",
    "    - accuracy score being high most of the times\n",
    "    - without normalizing/scalling/ encoding categorical variables, the algo would run fine as it uses rule-based approach.\n",
    "    - it works well with missing values\n",
    "    - flexible to both categorical and continious values.\n",
    "    \n",
    "The disadvantages are :\n",
    "\n",
    "    - overall, it requires more computational power,\n",
    "    - requires more time for training as it has to combine various decision trees to inteprete the class.\n",
    "    - it also suffers interpretability and fails to determine the significance of each variable.\n",
    "\n"
   ]
  },
  {
   "cell_type": "markdown",
   "id": "ee1bb5b7",
   "metadata": {},
   "source": [
    "#### Future Works\n",
    "Relate the model performance to the client's financial performance with the introduction of the discount proposition.\n",
    "How much money could a client save with the use of the model? What assumptions did you make to come to this conclusion?"
   ]
  },
  {
   "cell_type": "code",
   "execution_count": null,
   "id": "4137f9bf",
   "metadata": {},
   "outputs": [],
   "source": []
  }
 ],
 "metadata": {
  "kernelspec": {
   "display_name": "Python 3 (ipykernel)",
   "language": "python",
   "name": "python3"
  },
  "language_info": {
   "codemirror_mode": {
    "name": "ipython",
    "version": 3
   },
   "file_extension": ".py",
   "mimetype": "text/x-python",
   "name": "python",
   "nbconvert_exporter": "python",
   "pygments_lexer": "ipython3",
   "version": "3.9.12"
  }
 },
 "nbformat": 4,
 "nbformat_minor": 5
}
